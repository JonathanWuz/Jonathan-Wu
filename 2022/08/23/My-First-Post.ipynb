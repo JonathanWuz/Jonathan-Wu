{
 "cells": [
  {
   "cell_type": "markdown",
   "metadata": {},
   "source": [
    "# First Blog Post\n",
    ">A blog post to test Jupyter Notebook and Github usability.\n",
    "\n",
    "-toc: true\n",
    "-badges: true\n",
    "- comments: true\n",
    "- categories: (blog)\n",
    "- image: images/logo.png"
   ]
  }
 ],
 "metadata": {
  "kernelspec": {
   "display_name": "Bash",
   "language": "bash",
   "name": "bash"
  },
  "language_info": {
   "codemirror_mode": "shell",
   "file_extension": ".sh",
   "mimetype": "text/x-sh",
   "name": "bash"
  },
  "orig_nbformat": 4,
  "vscode": {
   "interpreter": {
    "hash": "436b4b5843d5eae3ac0095ef1e325bc2875a9d95214ca244d70e60d547d13479"
   }
  }
 },
 "nbformat": 4,
 "nbformat_minor": 2
}
