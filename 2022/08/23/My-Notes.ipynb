{
 "cells": [
  {
   "cell_type": "markdown",
   "metadata": {},
   "source": [
    "# AP Physics Notes\n",
    ">A blog post/notes page to test Jupyter Notebook and Github usability. Physics is the study of motion. There are numerous versions and types of physics in the world that can be applied in different situtions such as... kinetics, physical, and more. The first unit in AP Physics will be on graphical analysis. We can \"graphically analyze\" by altering equation and its variables. To make sure you are right, make sure that your units are equal.\n",
    ">For example in a y=mx+b equation, we can check units by doing: (meters) = (meters/second)(seconds)+(meters).\n",
    "\n",
    "# notes setiings\n",
    "-toc: true\n",
    "-badges: true\n",
    "- comments: true\n",
    "- categories: (blog)\n",
    "- image: images/logo.png"
   ]
  }
 ],
 "metadata": {
  "kernelspec": {
   "display_name": "Bash",
   "language": "bash",
   "name": "bash"
  },
  "language_info": {
   "codemirror_mode": "shell",
   "file_extension": ".sh",
   "mimetype": "text/x-sh",
   "name": "bash"
  },
  "orig_nbformat": 4,
  "vscode": {
   "interpreter": {
    "hash": "436b4b5843d5eae3ac0095ef1e325bc2875a9d95214ca244d70e60d547d13479"
   }
  }
 },
 "nbformat": 4,
 "nbformat_minor": 2
}
