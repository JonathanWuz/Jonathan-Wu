server = 'https://flask.nighthawkcodingsociety.com/' # run from web server
url = server + "api/jokes/"
responses = []  # responses list

count_response = requests.get(url+"count")
count_json = count_response.json()
count = count_json['count']

num = str(random.randint(0, count-1)) # test a random record
responses.append(
    requests.get(url+num)  # Get/read joke by id
    ) 
responses.append(
    requests.put(url+"like/"+num) # Put/add to like count
    ) 
responses.append(
    requests.put(url+"jeer/"+num) # Put/add to jeer count
    ) 

responses.append(
    requests.get(url+"random")  # Get/read a random joke
    ) 

for response in responses:
    print(response)
    try:
        print(response.json())
    except:
        print("data error")
