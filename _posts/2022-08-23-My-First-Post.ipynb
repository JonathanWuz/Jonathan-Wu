{
 "cells": [
  {
   "cell_type": "code",
   "execution_count": null,
   "metadata": {
    "vscode": {
     "languageId": "shellscript"
    }
   },
   "outputs": [],
   "source": [
    "# First Blog Post\n",
    ">A blog post to test Jupyter Notebook and Github usability.\n",
    "\n",
    "-toc: true\n",
    "-badges: true\n",
    "- comments: true\n",
    "- categories: (blog)\n",
    "- image: images/logo.png"
   ]
  },
  {
   "cell_type": "markdown",
   "metadata": {},
   "source": [
    "# First Blog Post\n",
    ">A blog post to test Jupyter Notebook and Github usability.\n",
    "\n",
    "-toc: true\n",
    "-badges: true\n",
    "- comments: true\n",
    "- categories: (blog)\n",
    "- image: images/logo.png"
   ]
  },
  {
   "cell_type": "markdown",
   "metadata": {},
   "source": [
    "# First Blog Post\n",
    ">A blog post to test Jupyter Notebook and Github usability.\n",
    "\n",
    "-toc: true\n",
    "-badges: true\n",
    "- comments: true\n",
    "- categories: (blog)\n",
    "- image: images/logo.png"
   ]
  }
 ],
 "metadata": {
  "kernelspec": {
   "display_name": "Bash",
   "language": "bash",
   "name": "bash"
  },
  "language_info": {
   "codemirror_mode": {
    "name": "ipython",
    "version": 3
   },
   "file_extension": ".py",
   "mimetype": "text/x-python",
   "name": "bash",
   "nbconvert_exporter": "python",
   "pygments_lexer": "ipython3",
   "version": "3.9.12"
  },
  "orig_nbformat": 4,
  "vscode": {
   "interpreter": {
    "hash": "436b4b5843d5eae3ac0095ef1e325bc2875a9d95214ca244d70e60d547d13479"
   }
  }
 },
 "nbformat": 4,
 "nbformat_minor": 2
}
