{
 "cells": [
  {
   "cell_type": "code",
   "execution_count": null,
   "metadata": {},
   "outputs": [],
   "source": [
    "#Higher Lower Quiz (in progress)\n",
    "print(\"What is your name?\")\n",
    "print(\"hi \" + input(\"What is your name?\"))\n",
    "#Second Question\n",
    "print(\"What is your favorite food\")\n",
    "print(input(\"nice\"))\n",
    "#3rd question\n",
    "print(\"What would you rate this quiz out of 10\")\n",
    "print(input(\"thank you\"))"
   ]
  },
  {
   "cell_type": "markdown",
   "metadata": {},
   "source": [
    "---\n",
    "toc: true\n",
    "layout: post\n",
    "description: A minimal example of using markdown with fastpages.\n",
    "categories: [markdown]\n",
    "title: An Example Markdown Post\n",
    "---\n",
    "#Higher Lower Quiz (In Progress)\n",
    "This is a high or lower quiz where you guess a number from1 to 100 and I will tell you if it's higher or lower."
   ]
  }
 ],
 "metadata": {
  "kernelspec": {
   "display_name": "Python 3.8.10 64-bit",
   "language": "python",
   "name": "python3"
  },
  "language_info": {
   "name": "python",
   "version": "3.8.10"
  },
  "orig_nbformat": 4,
  "vscode": {
   "interpreter": {
    "hash": "916dbcbb3f70747c44a77c7bcd40155683ae19c65e1c03b4aa3499c5328201f1"
   }
  }
 },
 "nbformat": 4,
 "nbformat_minor": 2
}
