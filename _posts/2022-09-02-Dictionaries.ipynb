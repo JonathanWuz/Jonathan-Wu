{
 "cells": [
  {
   "cell_type": "code",
   "execution_count": 1,
   "metadata": {},
   "outputs": [
    {
     "name": "stdout",
     "output_type": "stream",
     "text": [
      "[{'FirstName': 'Jonathan', 'LastName': 'Wu', 'DOB': 'November 20', 'Residence': 'San Diego', 'Email': 'jonathanwu1120@gmail.com', 'Owns_Cars': ['none']}, {'FirstName': 'Sunny', 'LastName': 'Naidu', 'DOB': 'August 2', 'Residence': 'Temecula', 'Email': 'snaidu@powayusd.com', 'Owns_Cars': ['4Runner']}]\n",
      "While loop output\n",
      "\n",
      "Jonathan Wu\n",
      "\t Residence: San Diego\n",
      "\t Birth Day: November 20\n",
      "\t Cars: none\n",
      "\n",
      "Sunny Naidu\n",
      "\t Residence: Temecula\n",
      "\t Birth Day: August 2\n",
      "\t Cars: 4Runner\n",
      "\n"
     ]
    }
   ],
   "source": [
    "InfoDb = []\n",
    "\n",
    "# InfoDB is a data structure with expected Keys and Values\n",
    "\n",
    "# Append to List a Dictionary of key/values related to a person and cars\n",
    "InfoDb.append({\n",
    "    \"FirstName\": \"Jonathan\",\n",
    "    \"LastName\": \"Wu\",\n",
    "    \"DOB\": \"November 20\",\n",
    "    \"Residence\": \"San Diego\",\n",
    "    \"Email\": \"jonathanwu1120@gmail.com\",\n",
    "    \"Owns_Cars\": [\"none\"]\n",
    "})\n",
    "\n",
    "# Append to List a 2nd Dictionary of key/values\n",
    "InfoDb.append({\n",
    "    \"FirstName\": \"Sunny\",\n",
    "    \"LastName\": \"Naidu\",\n",
    "    \"DOB\": \"August 2\",\n",
    "    \"Residence\": \"Temecula\",\n",
    "    \"Email\": \"snaidu@powayusd.com\",\n",
    "    \"Owns_Cars\": [\"4Runner\"]\n",
    "})\n",
    "\n",
    "# Print the data structure\n",
    "print(InfoDb)\n",
    "def print_data(d_rec):\n",
    "    print(d_rec[\"FirstName\"], d_rec[\"LastName\"])  # using comma puts space between values\n",
    "    print(\"\\t\", \"Residence:\", d_rec[\"Residence\"]) # \\t is a tab indent\n",
    "    print(\"\\t\", \"Birth Day:\", d_rec[\"DOB\"])\n",
    "    print(\"\\t\", \"Cars: \", end=\"\")  # end=\"\" make sure no return occurs\n",
    "    print(\", \".join(d_rec[\"Owns_Cars\"]))  # join allows printing a string list with separator\n",
    "    print()\n",
    "\n",
    "def while_loop():\n",
    "    print(\"While loop output\\n\")\n",
    "    i = 0\n",
    "    while i < len(InfoDb):\n",
    "        record = InfoDb[i]\n",
    "        print_data(record)\n",
    "        i += 1\n",
    "    return\n",
    "\n",
    "while_loop()"
   ]
  }
 ],
 "metadata": {
  "kernelspec": {
   "display_name": "Python 3.9.12 ('base')",
   "language": "python",
   "name": "python3"
  },
  "language_info": {
   "codemirror_mode": {
    "name": "ipython",
    "version": 3
   },
   "file_extension": ".py",
   "mimetype": "text/x-python",
   "name": "python",
   "nbconvert_exporter": "python",
   "pygments_lexer": "ipython3",
   "version": "3.9.12"
  },
  "orig_nbformat": 4,
  "vscode": {
   "interpreter": {
    "hash": "436b4b5843d5eae3ac0095ef1e325bc2875a9d95214ca244d70e60d547d13479"
   }
  }
 },
 "nbformat": 4,
 "nbformat_minor": 2
}
