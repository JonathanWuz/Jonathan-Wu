{
 "cells": [
  {
   "cell_type": "code",
   "execution_count": 1,
   "metadata": {
    "vscode": {
     "languageId": "shellscript"
    }
   },
   "outputs": [
    {
     "name": "stdout",
     "output_type": "stream",
     "text": [
      "What is your name?\n",
      "hi bob\n",
      "What is your favorite food\n",
      "pizza\n",
      "What would you rate this quiz out of 10\n",
      "9\n"
     ]
    }
   ],
   "source": [
    "#Print-Python-Quiz-for-APCSP\n",
    "print(\"What is your name?\")\n",
    "print(\"hi \" + input(\"What is your name?\"))\n",
    "#Second Question\n",
    "print(\"What is your favorite food\")\n",
    "print(input(\"nice\"))\n",
    "#3rd question\n",
    "print(\"What would you rate this quiz out of 10\")\n",
    "print(input(\"thank you\"))"
   ]
  }
 ],
 "metadata": {
  "kernelspec": {
   "display_name": "Python 3.9.12 ('base')",
   "language": "python",
   "name": "python3"
  },
  "language_info": {
   "codemirror_mode": {
    "name": "ipython",
    "version": 3
   },
   "file_extension": ".py",
   "mimetype": "text/x-python",
   "name": "python",
   "nbconvert_exporter": "python",
   "pygments_lexer": "ipython3",
   "version": "3.9.12"
  },
  "orig_nbformat": 4,
  "vscode": {
   "interpreter": {
    "hash": "436b4b5843d5eae3ac0095ef1e325bc2875a9d95214ca244d70e60d547d13479"
   }
  }
 },
 "nbformat": 4,
 "nbformat_minor": 2
}
